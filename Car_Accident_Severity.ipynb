{
  "nbformat": 4,
  "nbformat_minor": 0,
  "metadata": {
    "colab": {
      "name": "Car_Accident_Severity.ipynb",
      "provenance": [],
      "collapsed_sections": []
    },
    "kernelspec": {
      "name": "python3",
      "display_name": "Python 3"
    },
    "accelerator": "GPU"
  },
  "cells": [
    {
      "cell_type": "code",
      "metadata": {
        "id": "1YRvyZCeM72F",
        "colab_type": "code",
        "colab": {}
      },
      "source": [
        "import pandas as pd\n",
        "import numpy as np\n",
        "import matplotlib.pyplot as plt\n",
        "import matplotlib as mpl\n",
        "from sklearn import preprocessing\n",
        "from scipy import stats\n",
        "import scipy as sp\n",
        "import random\n",
        "import seaborn as sns\n",
        "from sklearn.metrics import accuracy_score,f1_score,log_loss,classification_report,confusion_matrix,jaccard_score\n",
        "from sklearn.tree import DecisionTreeClassifier\n",
        "from sklearn.model_selection import train_test_split\n",
        "from sklearn import svm\n",
        "from sklearn import metrics\n",
        "import pydotplus\n",
        "import matplotlib.image as mpimg\n",
        "from io import StringIO\n",
        "import itertools\n",
        "from sklearn.linear_model import LogisticRegression\n",
        "from sklearn.neighbors import KNeighborsClassifier\n",
        "import folium\n",
        "import webbrowser\n",
        "from folium import plugins\n",
        "from imblearn.over_sampling import SMOTE\n",
        "#COnfusion Matrix\n",
        "from sklearn.metrics import classification_report, confusion_matrix\n",
        "import itertools\n",
        "\n",
        "import warnings\n",
        "warnings.filterwarnings(\"ignore\")"
      ],
      "execution_count": 43,
      "outputs": []
    },
    {
      "cell_type": "code",
      "metadata": {
        "id": "N2AFLOTUNa6w",
        "colab_type": "code",
        "colab": {
          "base_uri": "https://localhost:8080/",
          "height": 609
        },
        "outputId": "4e42e2d9-763b-4458-fff8-b95b3cc3e7ef"
      },
      "source": [
        "url = \"https://s3.us.cloud-object-storage.appdomain.cloud/cf-courses-data/CognitiveClass/DP0701EN/version-2/Data-Collisions.csv\"\n",
        "data = pd.read_csv(url)\n",
        "data.head()"
      ],
      "execution_count": 11,
      "outputs": [
        {
          "output_type": "execute_result",
          "data": {
            "text/html": [
              "<div>\n",
              "<style scoped>\n",
              "    .dataframe tbody tr th:only-of-type {\n",
              "        vertical-align: middle;\n",
              "    }\n",
              "\n",
              "    .dataframe tbody tr th {\n",
              "        vertical-align: top;\n",
              "    }\n",
              "\n",
              "    .dataframe thead th {\n",
              "        text-align: right;\n",
              "    }\n",
              "</style>\n",
              "<table border=\"1\" class=\"dataframe\">\n",
              "  <thead>\n",
              "    <tr style=\"text-align: right;\">\n",
              "      <th></th>\n",
              "      <th>SEVERITYCODE</th>\n",
              "      <th>X</th>\n",
              "      <th>Y</th>\n",
              "      <th>OBJECTID</th>\n",
              "      <th>INCKEY</th>\n",
              "      <th>COLDETKEY</th>\n",
              "      <th>REPORTNO</th>\n",
              "      <th>STATUS</th>\n",
              "      <th>ADDRTYPE</th>\n",
              "      <th>INTKEY</th>\n",
              "      <th>LOCATION</th>\n",
              "      <th>EXCEPTRSNCODE</th>\n",
              "      <th>EXCEPTRSNDESC</th>\n",
              "      <th>SEVERITYCODE.1</th>\n",
              "      <th>SEVERITYDESC</th>\n",
              "      <th>COLLISIONTYPE</th>\n",
              "      <th>PERSONCOUNT</th>\n",
              "      <th>PEDCOUNT</th>\n",
              "      <th>PEDCYLCOUNT</th>\n",
              "      <th>VEHCOUNT</th>\n",
              "      <th>INCDATE</th>\n",
              "      <th>INCDTTM</th>\n",
              "      <th>JUNCTIONTYPE</th>\n",
              "      <th>SDOT_COLCODE</th>\n",
              "      <th>SDOT_COLDESC</th>\n",
              "      <th>INATTENTIONIND</th>\n",
              "      <th>UNDERINFL</th>\n",
              "      <th>WEATHER</th>\n",
              "      <th>ROADCOND</th>\n",
              "      <th>LIGHTCOND</th>\n",
              "      <th>PEDROWNOTGRNT</th>\n",
              "      <th>SDOTCOLNUM</th>\n",
              "      <th>SPEEDING</th>\n",
              "      <th>ST_COLCODE</th>\n",
              "      <th>ST_COLDESC</th>\n",
              "      <th>SEGLANEKEY</th>\n",
              "      <th>CROSSWALKKEY</th>\n",
              "      <th>HITPARKEDCAR</th>\n",
              "    </tr>\n",
              "  </thead>\n",
              "  <tbody>\n",
              "    <tr>\n",
              "      <th>0</th>\n",
              "      <td>2</td>\n",
              "      <td>-122.323148</td>\n",
              "      <td>47.703140</td>\n",
              "      <td>1</td>\n",
              "      <td>1307</td>\n",
              "      <td>1307</td>\n",
              "      <td>3502005</td>\n",
              "      <td>Matched</td>\n",
              "      <td>Intersection</td>\n",
              "      <td>37475.0</td>\n",
              "      <td>5TH AVE NE AND NE 103RD ST</td>\n",
              "      <td></td>\n",
              "      <td>NaN</td>\n",
              "      <td>2</td>\n",
              "      <td>Injury Collision</td>\n",
              "      <td>Angles</td>\n",
              "      <td>2</td>\n",
              "      <td>0</td>\n",
              "      <td>0</td>\n",
              "      <td>2</td>\n",
              "      <td>2013/03/27 00:00:00+00</td>\n",
              "      <td>3/27/2013 2:54:00 PM</td>\n",
              "      <td>At Intersection (intersection related)</td>\n",
              "      <td>11</td>\n",
              "      <td>MOTOR VEHICLE STRUCK MOTOR VEHICLE, FRONT END ...</td>\n",
              "      <td>NaN</td>\n",
              "      <td>N</td>\n",
              "      <td>Overcast</td>\n",
              "      <td>Wet</td>\n",
              "      <td>Daylight</td>\n",
              "      <td>NaN</td>\n",
              "      <td>NaN</td>\n",
              "      <td>NaN</td>\n",
              "      <td>10</td>\n",
              "      <td>Entering at angle</td>\n",
              "      <td>0</td>\n",
              "      <td>0</td>\n",
              "      <td>N</td>\n",
              "    </tr>\n",
              "    <tr>\n",
              "      <th>1</th>\n",
              "      <td>1</td>\n",
              "      <td>-122.347294</td>\n",
              "      <td>47.647172</td>\n",
              "      <td>2</td>\n",
              "      <td>52200</td>\n",
              "      <td>52200</td>\n",
              "      <td>2607959</td>\n",
              "      <td>Matched</td>\n",
              "      <td>Block</td>\n",
              "      <td>NaN</td>\n",
              "      <td>AURORA BR BETWEEN RAYE ST AND BRIDGE WAY N</td>\n",
              "      <td>NaN</td>\n",
              "      <td>NaN</td>\n",
              "      <td>1</td>\n",
              "      <td>Property Damage Only Collision</td>\n",
              "      <td>Sideswipe</td>\n",
              "      <td>2</td>\n",
              "      <td>0</td>\n",
              "      <td>0</td>\n",
              "      <td>2</td>\n",
              "      <td>2006/12/20 00:00:00+00</td>\n",
              "      <td>12/20/2006 6:55:00 PM</td>\n",
              "      <td>Mid-Block (not related to intersection)</td>\n",
              "      <td>16</td>\n",
              "      <td>MOTOR VEHICLE STRUCK MOTOR VEHICLE, LEFT SIDE ...</td>\n",
              "      <td>NaN</td>\n",
              "      <td>0</td>\n",
              "      <td>Raining</td>\n",
              "      <td>Wet</td>\n",
              "      <td>Dark - Street Lights On</td>\n",
              "      <td>NaN</td>\n",
              "      <td>6354039.0</td>\n",
              "      <td>NaN</td>\n",
              "      <td>11</td>\n",
              "      <td>From same direction - both going straight - bo...</td>\n",
              "      <td>0</td>\n",
              "      <td>0</td>\n",
              "      <td>N</td>\n",
              "    </tr>\n",
              "    <tr>\n",
              "      <th>2</th>\n",
              "      <td>1</td>\n",
              "      <td>-122.334540</td>\n",
              "      <td>47.607871</td>\n",
              "      <td>3</td>\n",
              "      <td>26700</td>\n",
              "      <td>26700</td>\n",
              "      <td>1482393</td>\n",
              "      <td>Matched</td>\n",
              "      <td>Block</td>\n",
              "      <td>NaN</td>\n",
              "      <td>4TH AVE BETWEEN SENECA ST AND UNIVERSITY ST</td>\n",
              "      <td>NaN</td>\n",
              "      <td>NaN</td>\n",
              "      <td>1</td>\n",
              "      <td>Property Damage Only Collision</td>\n",
              "      <td>Parked Car</td>\n",
              "      <td>4</td>\n",
              "      <td>0</td>\n",
              "      <td>0</td>\n",
              "      <td>3</td>\n",
              "      <td>2004/11/18 00:00:00+00</td>\n",
              "      <td>11/18/2004 10:20:00 AM</td>\n",
              "      <td>Mid-Block (not related to intersection)</td>\n",
              "      <td>14</td>\n",
              "      <td>MOTOR VEHICLE STRUCK MOTOR VEHICLE, REAR END</td>\n",
              "      <td>NaN</td>\n",
              "      <td>0</td>\n",
              "      <td>Overcast</td>\n",
              "      <td>Dry</td>\n",
              "      <td>Daylight</td>\n",
              "      <td>NaN</td>\n",
              "      <td>4323031.0</td>\n",
              "      <td>NaN</td>\n",
              "      <td>32</td>\n",
              "      <td>One parked--one moving</td>\n",
              "      <td>0</td>\n",
              "      <td>0</td>\n",
              "      <td>N</td>\n",
              "    </tr>\n",
              "    <tr>\n",
              "      <th>3</th>\n",
              "      <td>1</td>\n",
              "      <td>-122.334803</td>\n",
              "      <td>47.604803</td>\n",
              "      <td>4</td>\n",
              "      <td>1144</td>\n",
              "      <td>1144</td>\n",
              "      <td>3503937</td>\n",
              "      <td>Matched</td>\n",
              "      <td>Block</td>\n",
              "      <td>NaN</td>\n",
              "      <td>2ND AVE BETWEEN MARION ST AND MADISON ST</td>\n",
              "      <td></td>\n",
              "      <td>NaN</td>\n",
              "      <td>1</td>\n",
              "      <td>Property Damage Only Collision</td>\n",
              "      <td>Other</td>\n",
              "      <td>3</td>\n",
              "      <td>0</td>\n",
              "      <td>0</td>\n",
              "      <td>3</td>\n",
              "      <td>2013/03/29 00:00:00+00</td>\n",
              "      <td>3/29/2013 9:26:00 AM</td>\n",
              "      <td>Mid-Block (not related to intersection)</td>\n",
              "      <td>11</td>\n",
              "      <td>MOTOR VEHICLE STRUCK MOTOR VEHICLE, FRONT END ...</td>\n",
              "      <td>NaN</td>\n",
              "      <td>N</td>\n",
              "      <td>Clear</td>\n",
              "      <td>Dry</td>\n",
              "      <td>Daylight</td>\n",
              "      <td>NaN</td>\n",
              "      <td>NaN</td>\n",
              "      <td>NaN</td>\n",
              "      <td>23</td>\n",
              "      <td>From same direction - all others</td>\n",
              "      <td>0</td>\n",
              "      <td>0</td>\n",
              "      <td>N</td>\n",
              "    </tr>\n",
              "    <tr>\n",
              "      <th>4</th>\n",
              "      <td>2</td>\n",
              "      <td>-122.306426</td>\n",
              "      <td>47.545739</td>\n",
              "      <td>5</td>\n",
              "      <td>17700</td>\n",
              "      <td>17700</td>\n",
              "      <td>1807429</td>\n",
              "      <td>Matched</td>\n",
              "      <td>Intersection</td>\n",
              "      <td>34387.0</td>\n",
              "      <td>SWIFT AVE S AND SWIFT AV OFF RP</td>\n",
              "      <td>NaN</td>\n",
              "      <td>NaN</td>\n",
              "      <td>2</td>\n",
              "      <td>Injury Collision</td>\n",
              "      <td>Angles</td>\n",
              "      <td>2</td>\n",
              "      <td>0</td>\n",
              "      <td>0</td>\n",
              "      <td>2</td>\n",
              "      <td>2004/01/28 00:00:00+00</td>\n",
              "      <td>1/28/2004 8:04:00 AM</td>\n",
              "      <td>At Intersection (intersection related)</td>\n",
              "      <td>11</td>\n",
              "      <td>MOTOR VEHICLE STRUCK MOTOR VEHICLE, FRONT END ...</td>\n",
              "      <td>NaN</td>\n",
              "      <td>0</td>\n",
              "      <td>Raining</td>\n",
              "      <td>Wet</td>\n",
              "      <td>Daylight</td>\n",
              "      <td>NaN</td>\n",
              "      <td>4028032.0</td>\n",
              "      <td>NaN</td>\n",
              "      <td>10</td>\n",
              "      <td>Entering at angle</td>\n",
              "      <td>0</td>\n",
              "      <td>0</td>\n",
              "      <td>N</td>\n",
              "    </tr>\n",
              "  </tbody>\n",
              "</table>\n",
              "</div>"
            ],
            "text/plain": [
              "   SEVERITYCODE           X          Y  ...  SEGLANEKEY  CROSSWALKKEY  HITPARKEDCAR\n",
              "0             2 -122.323148  47.703140  ...           0             0             N\n",
              "1             1 -122.347294  47.647172  ...           0             0             N\n",
              "2             1 -122.334540  47.607871  ...           0             0             N\n",
              "3             1 -122.334803  47.604803  ...           0             0             N\n",
              "4             2 -122.306426  47.545739  ...           0             0             N\n",
              "\n",
              "[5 rows x 38 columns]"
            ]
          },
          "metadata": {
            "tags": []
          },
          "execution_count": 11
        }
      ]
    },
    {
      "cell_type": "code",
      "metadata": {
        "id": "L9WcoWL_RJ18",
        "colab_type": "code",
        "colab": {
          "base_uri": "https://localhost:8080/",
          "height": 855
        },
        "outputId": "2845e373-9b84-42b2-e9ce-9caa8d4ee7d3"
      },
      "source": [
        "data.info()"
      ],
      "execution_count": 12,
      "outputs": [
        {
          "output_type": "stream",
          "text": [
            "<class 'pandas.core.frame.DataFrame'>\n",
            "RangeIndex: 194673 entries, 0 to 194672\n",
            "Data columns (total 38 columns):\n",
            " #   Column          Non-Null Count   Dtype  \n",
            "---  ------          --------------   -----  \n",
            " 0   SEVERITYCODE    194673 non-null  int64  \n",
            " 1   X               189339 non-null  float64\n",
            " 2   Y               189339 non-null  float64\n",
            " 3   OBJECTID        194673 non-null  int64  \n",
            " 4   INCKEY          194673 non-null  int64  \n",
            " 5   COLDETKEY       194673 non-null  int64  \n",
            " 6   REPORTNO        194673 non-null  object \n",
            " 7   STATUS          194673 non-null  object \n",
            " 8   ADDRTYPE        192747 non-null  object \n",
            " 9   INTKEY          65070 non-null   float64\n",
            " 10  LOCATION        191996 non-null  object \n",
            " 11  EXCEPTRSNCODE   84811 non-null   object \n",
            " 12  EXCEPTRSNDESC   5638 non-null    object \n",
            " 13  SEVERITYCODE.1  194673 non-null  int64  \n",
            " 14  SEVERITYDESC    194673 non-null  object \n",
            " 15  COLLISIONTYPE   189769 non-null  object \n",
            " 16  PERSONCOUNT     194673 non-null  int64  \n",
            " 17  PEDCOUNT        194673 non-null  int64  \n",
            " 18  PEDCYLCOUNT     194673 non-null  int64  \n",
            " 19  VEHCOUNT        194673 non-null  int64  \n",
            " 20  INCDATE         194673 non-null  object \n",
            " 21  INCDTTM         194673 non-null  object \n",
            " 22  JUNCTIONTYPE    188344 non-null  object \n",
            " 23  SDOT_COLCODE    194673 non-null  int64  \n",
            " 24  SDOT_COLDESC    194673 non-null  object \n",
            " 25  INATTENTIONIND  29805 non-null   object \n",
            " 26  UNDERINFL       189789 non-null  object \n",
            " 27  WEATHER         189592 non-null  object \n",
            " 28  ROADCOND        189661 non-null  object \n",
            " 29  LIGHTCOND       189503 non-null  object \n",
            " 30  PEDROWNOTGRNT   4667 non-null    object \n",
            " 31  SDOTCOLNUM      114936 non-null  float64\n",
            " 32  SPEEDING        9333 non-null    object \n",
            " 33  ST_COLCODE      194655 non-null  object \n",
            " 34  ST_COLDESC      189769 non-null  object \n",
            " 35  SEGLANEKEY      194673 non-null  int64  \n",
            " 36  CROSSWALKKEY    194673 non-null  int64  \n",
            " 37  HITPARKEDCAR    194673 non-null  object \n",
            "dtypes: float64(4), int64(12), object(22)\n",
            "memory usage: 56.4+ MB\n"
          ],
          "name": "stdout"
        }
      ]
    },
    {
      "cell_type": "code",
      "metadata": {
        "id": "KU_JJnG1Rpub",
        "colab_type": "code",
        "colab": {
          "base_uri": "https://localhost:8080/",
          "height": 321
        },
        "outputId": "54f56460-3fb0-4b15-ec61-b36d0da61bae"
      },
      "source": [
        "data.describe()"
      ],
      "execution_count": 13,
      "outputs": [
        {
          "output_type": "execute_result",
          "data": {
            "text/html": [
              "<div>\n",
              "<style scoped>\n",
              "    .dataframe tbody tr th:only-of-type {\n",
              "        vertical-align: middle;\n",
              "    }\n",
              "\n",
              "    .dataframe tbody tr th {\n",
              "        vertical-align: top;\n",
              "    }\n",
              "\n",
              "    .dataframe thead th {\n",
              "        text-align: right;\n",
              "    }\n",
              "</style>\n",
              "<table border=\"1\" class=\"dataframe\">\n",
              "  <thead>\n",
              "    <tr style=\"text-align: right;\">\n",
              "      <th></th>\n",
              "      <th>SEVERITYCODE</th>\n",
              "      <th>X</th>\n",
              "      <th>Y</th>\n",
              "      <th>OBJECTID</th>\n",
              "      <th>INCKEY</th>\n",
              "      <th>COLDETKEY</th>\n",
              "      <th>INTKEY</th>\n",
              "      <th>SEVERITYCODE.1</th>\n",
              "      <th>PERSONCOUNT</th>\n",
              "      <th>PEDCOUNT</th>\n",
              "      <th>PEDCYLCOUNT</th>\n",
              "      <th>VEHCOUNT</th>\n",
              "      <th>SDOT_COLCODE</th>\n",
              "      <th>SDOTCOLNUM</th>\n",
              "      <th>SEGLANEKEY</th>\n",
              "      <th>CROSSWALKKEY</th>\n",
              "    </tr>\n",
              "  </thead>\n",
              "  <tbody>\n",
              "    <tr>\n",
              "      <th>count</th>\n",
              "      <td>194673.000000</td>\n",
              "      <td>189339.000000</td>\n",
              "      <td>189339.000000</td>\n",
              "      <td>194673.000000</td>\n",
              "      <td>194673.000000</td>\n",
              "      <td>194673.000000</td>\n",
              "      <td>65070.000000</td>\n",
              "      <td>194673.000000</td>\n",
              "      <td>194673.000000</td>\n",
              "      <td>194673.000000</td>\n",
              "      <td>194673.000000</td>\n",
              "      <td>194673.000000</td>\n",
              "      <td>194673.000000</td>\n",
              "      <td>1.149360e+05</td>\n",
              "      <td>194673.000000</td>\n",
              "      <td>1.946730e+05</td>\n",
              "    </tr>\n",
              "    <tr>\n",
              "      <th>mean</th>\n",
              "      <td>1.298901</td>\n",
              "      <td>-122.330518</td>\n",
              "      <td>47.619543</td>\n",
              "      <td>108479.364930</td>\n",
              "      <td>141091.456350</td>\n",
              "      <td>141298.811381</td>\n",
              "      <td>37558.450576</td>\n",
              "      <td>1.298901</td>\n",
              "      <td>2.444427</td>\n",
              "      <td>0.037139</td>\n",
              "      <td>0.028391</td>\n",
              "      <td>1.920780</td>\n",
              "      <td>13.867768</td>\n",
              "      <td>7.972521e+06</td>\n",
              "      <td>269.401114</td>\n",
              "      <td>9.782452e+03</td>\n",
              "    </tr>\n",
              "    <tr>\n",
              "      <th>std</th>\n",
              "      <td>0.457778</td>\n",
              "      <td>0.029976</td>\n",
              "      <td>0.056157</td>\n",
              "      <td>62649.722558</td>\n",
              "      <td>86634.402737</td>\n",
              "      <td>86986.542110</td>\n",
              "      <td>51745.990273</td>\n",
              "      <td>0.457778</td>\n",
              "      <td>1.345929</td>\n",
              "      <td>0.198150</td>\n",
              "      <td>0.167413</td>\n",
              "      <td>0.631047</td>\n",
              "      <td>6.868755</td>\n",
              "      <td>2.553533e+06</td>\n",
              "      <td>3315.776055</td>\n",
              "      <td>7.226926e+04</td>\n",
              "    </tr>\n",
              "    <tr>\n",
              "      <th>min</th>\n",
              "      <td>1.000000</td>\n",
              "      <td>-122.419091</td>\n",
              "      <td>47.495573</td>\n",
              "      <td>1.000000</td>\n",
              "      <td>1001.000000</td>\n",
              "      <td>1001.000000</td>\n",
              "      <td>23807.000000</td>\n",
              "      <td>1.000000</td>\n",
              "      <td>0.000000</td>\n",
              "      <td>0.000000</td>\n",
              "      <td>0.000000</td>\n",
              "      <td>0.000000</td>\n",
              "      <td>0.000000</td>\n",
              "      <td>1.007024e+06</td>\n",
              "      <td>0.000000</td>\n",
              "      <td>0.000000e+00</td>\n",
              "    </tr>\n",
              "    <tr>\n",
              "      <th>25%</th>\n",
              "      <td>1.000000</td>\n",
              "      <td>-122.348673</td>\n",
              "      <td>47.575956</td>\n",
              "      <td>54267.000000</td>\n",
              "      <td>70383.000000</td>\n",
              "      <td>70383.000000</td>\n",
              "      <td>28667.000000</td>\n",
              "      <td>1.000000</td>\n",
              "      <td>2.000000</td>\n",
              "      <td>0.000000</td>\n",
              "      <td>0.000000</td>\n",
              "      <td>2.000000</td>\n",
              "      <td>11.000000</td>\n",
              "      <td>6.040015e+06</td>\n",
              "      <td>0.000000</td>\n",
              "      <td>0.000000e+00</td>\n",
              "    </tr>\n",
              "    <tr>\n",
              "      <th>50%</th>\n",
              "      <td>1.000000</td>\n",
              "      <td>-122.330224</td>\n",
              "      <td>47.615369</td>\n",
              "      <td>106912.000000</td>\n",
              "      <td>123363.000000</td>\n",
              "      <td>123363.000000</td>\n",
              "      <td>29973.000000</td>\n",
              "      <td>1.000000</td>\n",
              "      <td>2.000000</td>\n",
              "      <td>0.000000</td>\n",
              "      <td>0.000000</td>\n",
              "      <td>2.000000</td>\n",
              "      <td>13.000000</td>\n",
              "      <td>8.023022e+06</td>\n",
              "      <td>0.000000</td>\n",
              "      <td>0.000000e+00</td>\n",
              "    </tr>\n",
              "    <tr>\n",
              "      <th>75%</th>\n",
              "      <td>2.000000</td>\n",
              "      <td>-122.311937</td>\n",
              "      <td>47.663664</td>\n",
              "      <td>162272.000000</td>\n",
              "      <td>203319.000000</td>\n",
              "      <td>203459.000000</td>\n",
              "      <td>33973.000000</td>\n",
              "      <td>2.000000</td>\n",
              "      <td>3.000000</td>\n",
              "      <td>0.000000</td>\n",
              "      <td>0.000000</td>\n",
              "      <td>2.000000</td>\n",
              "      <td>14.000000</td>\n",
              "      <td>1.015501e+07</td>\n",
              "      <td>0.000000</td>\n",
              "      <td>0.000000e+00</td>\n",
              "    </tr>\n",
              "    <tr>\n",
              "      <th>max</th>\n",
              "      <td>2.000000</td>\n",
              "      <td>-122.238949</td>\n",
              "      <td>47.734142</td>\n",
              "      <td>219547.000000</td>\n",
              "      <td>331454.000000</td>\n",
              "      <td>332954.000000</td>\n",
              "      <td>757580.000000</td>\n",
              "      <td>2.000000</td>\n",
              "      <td>81.000000</td>\n",
              "      <td>6.000000</td>\n",
              "      <td>2.000000</td>\n",
              "      <td>12.000000</td>\n",
              "      <td>69.000000</td>\n",
              "      <td>1.307202e+07</td>\n",
              "      <td>525241.000000</td>\n",
              "      <td>5.239700e+06</td>\n",
              "    </tr>\n",
              "  </tbody>\n",
              "</table>\n",
              "</div>"
            ],
            "text/plain": [
              "        SEVERITYCODE              X  ...     SEGLANEKEY  CROSSWALKKEY\n",
              "count  194673.000000  189339.000000  ...  194673.000000  1.946730e+05\n",
              "mean        1.298901    -122.330518  ...     269.401114  9.782452e+03\n",
              "std         0.457778       0.029976  ...    3315.776055  7.226926e+04\n",
              "min         1.000000    -122.419091  ...       0.000000  0.000000e+00\n",
              "25%         1.000000    -122.348673  ...       0.000000  0.000000e+00\n",
              "50%         1.000000    -122.330224  ...       0.000000  0.000000e+00\n",
              "75%         2.000000    -122.311937  ...       0.000000  0.000000e+00\n",
              "max         2.000000    -122.238949  ...  525241.000000  5.239700e+06\n",
              "\n",
              "[8 rows x 16 columns]"
            ]
          },
          "metadata": {
            "tags": []
          },
          "execution_count": 13
        }
      ]
    },
    {
      "cell_type": "code",
      "metadata": {
        "id": "Ci0cNYNZR1Hs",
        "colab_type": "code",
        "colab": {
          "base_uri": "https://localhost:8080/",
          "height": 36
        },
        "outputId": "07251eb5-2975-4012-e89c-744e039218b4"
      },
      "source": [
        "data.shape"
      ],
      "execution_count": 14,
      "outputs": [
        {
          "output_type": "execute_result",
          "data": {
            "text/plain": [
              "(194673, 38)"
            ]
          },
          "metadata": {
            "tags": []
          },
          "execution_count": 14
        }
      ]
    },
    {
      "cell_type": "code",
      "metadata": {
        "id": "rTVNNAIVOyB8",
        "colab_type": "code",
        "colab": {
          "base_uri": "https://localhost:8080/",
          "height": 281
        },
        "outputId": "1ed9092b-c103-4cbf-e1a2-286abae8a934"
      },
      "source": [
        "data.SEVERITYCODE.value_counts().plot(kind='bar')"
      ],
      "execution_count": 15,
      "outputs": [
        {
          "output_type": "execute_result",
          "data": {
            "text/plain": [
              "<matplotlib.axes._subplots.AxesSubplot at 0x7faac81f4d68>"
            ]
          },
          "metadata": {
            "tags": []
          },
          "execution_count": 15
        },
        {
          "output_type": "display_data",
          "data": {
            "image/png": "[encoded data removed]",
            "text/plain": [
              "<Figure size 432x288 with 1 Axes>"
            ]
          },
          "metadata": {
            "tags": [],
            "needs_background": "light"
          }
        }
      ]
    },
    {
      "cell_type": "markdown",
      "metadata": {
        "id": "T7300JyASUrx",
        "colab_type": "text"
      },
      "source": [
        "data is imbalance"
      ]
    },
    {
      "cell_type": "code",
      "metadata": {
        "id": "wv3H7N7GQNdy",
        "colab_type": "code",
        "colab": {
          "base_uri": "https://localhost:8080/",
          "height": 291
        },
        "outputId": "f3fe600a-641c-4015-9df1-d62e752170cc"
      },
      "source": [
        "data.EXCEPTRSNCODE.value_counts().plot(kind='bar')"
      ],
      "execution_count": 16,
      "outputs": [
        {
          "output_type": "execute_result",
          "data": {
            "text/plain": [
              "<matplotlib.axes._subplots.AxesSubplot at 0x7faac60f4240>"
            ]
          },
          "metadata": {
            "tags": []
          },
          "execution_count": 16
        },
        {
          "output_type": "display_data",
          "data": {
            "image/png": "[encoded data removed]",
            "text/plain": [
              "<Figure size 432x288 with 1 Axes>"
            ]
          },
          "metadata": {
            "tags": [],
            "needs_background": "light"
          }
        }
      ]
    },
    {
      "cell_type": "code",
      "metadata": {
        "id": "W7a1aRY1XFJg",
        "colab_type": "code",
        "colab": {
          "base_uri": "https://localhost:8080/",
          "height": 129
        },
        "outputId": "56d6d7e8-76a6-4a00-b563-101362178a12"
      },
      "source": [
        "print(\"Total NaN values in the EXCEPTRSNCODE column are ---->>>>\",data[\"EXCEPTRSNCODE\"].isnull().sum())\n",
        "print(\"Total NaN values in the INTKEY column are ---->>>>\",data[\"INTKEY\"].isnull().sum())\n",
        "print(\"Total NaN values in the EXCEPTRSNDESC column are ---->>>>\",data[\"EXCEPTRSNDESC\"].isnull().sum())\n",
        "print(\"Total NaN values in the INATTENTIONIND column are ---->>>>\",data[\"INATTENTIONIND\"].isnull().sum())\n",
        "print(\"Total NaN values in the PEDROWNOTGRNT column are ---->>>>\",data[\"PEDROWNOTGRNT\"].isnull().sum())\n",
        "print(\"Total NaN values in the SDOTCOLNUM column are ---->>>>\",data[\"SDOTCOLNUM\"].isnull().sum())"
      ],
      "execution_count": 17,
      "outputs": [
        {
          "output_type": "stream",
          "text": [
            "Total NaN values in the EXCEPTRSNCODE column are ---->>>> 109862\n",
            "Total NaN values in the INTKEY column are ---->>>> 129603\n",
            "Total NaN values in the EXCEPTRSNDESC column are ---->>>> 189035\n",
            "Total NaN values in the INATTENTIONIND column are ---->>>> 164868\n",
            "Total NaN values in the PEDROWNOTGRNT column are ---->>>> 190006\n",
            "Total NaN values in the SDOTCOLNUM column are ---->>>> 79737\n"
          ],
          "name": "stdout"
        }
      ]
    },
    {
      "cell_type": "markdown",
      "metadata": {
        "id": "B0k50lDPaVxM",
        "colab_type": "text"
      },
      "source": [
        "Above column has full of nan values. We will take care of them later"
      ]
    },
    {
      "cell_type": "code",
      "metadata": {
        "id": "4dsrDl7MaVdv",
        "colab_type": "code",
        "colab": {
          "base_uri": "https://localhost:8080/",
          "height": 298
        },
        "outputId": "450e00e1-ba6d-4ff5-9b20-7e4b25978d69"
      },
      "source": [
        "data.plot(kind=\"scatter\", x='INCKEY', y='SEVERITYCODE')"
      ],
      "execution_count": 18,
      "outputs": [
        {
          "output_type": "execute_result",
          "data": {
            "text/plain": [
              "<matplotlib.axes._subplots.AxesSubplot at 0x7faac611e588>"
            ]
          },
          "metadata": {
            "tags": []
          },
          "execution_count": 18
        },
        {
          "output_type": "display_data",
          "data": {
            "image/png": "[encoded data removed]",
            "text/plain": [
              "<Figure size 432x288 with 1 Axes>"
            ]
          },
          "metadata": {
            "tags": [],
            "needs_background": "light"
          }
        }
      ]
    },
    {
      "cell_type": "code",
      "metadata": {
        "id": "nEuWw7CsZsvl",
        "colab_type": "code",
        "colab": {
          "base_uri": "https://localhost:8080/",
          "height": 298
        },
        "outputId": "292315c2-c71f-4745-f295-4dd8ae3c5647"
      },
      "source": [
        "data.plot(kind=\"scatter\", x='COLDETKEY', y='SEVERITYCODE')"
      ],
      "execution_count": 19,
      "outputs": [
        {
          "output_type": "execute_result",
          "data": {
            "text/plain": [
              "<matplotlib.axes._subplots.AxesSubplot at 0x7faac6041080>"
            ]
          },
          "metadata": {
            "tags": []
          },
          "execution_count": 19
        },
        {
          "output_type": "display_data",
          "data": {
            "image/png": "[encoded data removed]",
            "text/plain": [
              "<Figure size 432x288 with 1 Axes>"
            ]
          },
          "metadata": {
            "tags": [],
            "needs_background": "light"
          }
        }
      ]
    },
    {
      "cell_type": "code",
      "metadata": {
        "id": "mHVL8DAu0Vti",
        "colab_type": "code",
        "colab": {
          "base_uri": "https://localhost:8080/",
          "height": 321
        },
        "outputId": "175dc029-284c-4690-c722-bed7c4ccbf28"
      },
      "source": [
        "#Descriptive Stats\n",
        "descriptive_stats= data.describe(include=\"all\")\n",
        "\n",
        "    #Plotting counts of selected variables\n",
        "descriptive_stats_plot=descriptive_stats[[\"INATTENTIONIND\",\"UNDERINFL\",\"WEATHER\",\"ROADCOND\",\"LIGHTCOND\",\"SPEEDING\",\"SEVERITYCODE\"]]\n",
        "descriptive_stats_plot.drop(['unique','top','freq','mean','std','min','max','25%','50%','75%'],axis=0,inplace=True)\n",
        "descriptive_stats_plot=descriptive_stats_plot.transpose()\n",
        "\n",
        "color_yo=['sandybrown','sienna','sienna','sienna','sienna','sandybrown','sienna']\n",
        "descriptive_stats_plot.plot(kind='bar',alpha=0.70,color=[color_yo])\n",
        "plt.title('Number of entries in data for each variable - Seattle, Washington', fontsize=20, fontweight='bold')\n",
        "plt.xlabel(\"Variables\",fontsize=15,labelpad=20)\n",
        "plt.ylabel(\"Frequency\",fontsize=15,labelpad=20)\n",
        "plt.xticks(rotation=360)\n",
        "plt.show()"
      ],
      "execution_count": 50,
      "outputs": [
        {
          "output_type": "display_data",
          "data": {
            "image/png": "[encoded data removed]",
            "text/plain": [
              "<Figure size 432x288 with 1 Axes>"
            ]
          },
          "metadata": {
            "tags": [],
            "needs_background": "light"
          }
        }
      ]
    },
    {
      "cell_type": "code",
      "metadata": {
        "id": "v9Siy0A9um7g",
        "colab_type": "code",
        "colab": {
          "base_uri": "https://localhost:8080/",
          "height": 508
        },
        "outputId": "877eedc5-d9c8-44be-bc93-8dfa4d7df206"
      },
      "source": [
        "add = data['ADDRTYPE'].value_counts()\n",
        "explode_list = [0.05, 0.05, 0.2]\n",
        "color_list=['peachpuff','lightseagreen','darkorange']\n",
        "add.plot(kind = 'pie',\n",
        "         figsize = (15, 8),\n",
        "         autopct = '%1.1f%%',\n",
        "         startangle=90,\n",
        "         shadow=True,\n",
        "         labels=None,\n",
        "         pctdistance=1.12,\n",
        "         colors = color_list,\n",
        "         explode = explode_list)\n",
        "plt.title('Area of accident - Seattle, Washington', fontsize=18, y=1.05)\n",
        "plt.axis('equal')\n",
        "plt.legend(labels=add.index, loc='lower left')\n",
        "plt.show()"
      ],
      "execution_count": 20,
      "outputs": [
        {
          "output_type": "display_data",
          "data": {
            "image/png": "[encoded data removed]",
            "text/plain": [
              "<Figure size 1080x576 with 1 Axes>"
            ]
          },
          "metadata": {
            "tags": []
          }
        }
      ]
    },
    {
      "cell_type": "code",
      "metadata": {
        "id": "xBxudc80kSeI",
        "colab_type": "code",
        "colab": {
          "base_uri": "https://localhost:8080/",
          "height": 36
        },
        "outputId": "a0df6546-7a40-480d-82e6-8f974b37d9fd"
      },
      "source": [
        "#Check IncKey unqiue numbers\n",
        "data['INCKEY'].nunique()"
      ],
      "execution_count": 22,
      "outputs": [
        {
          "output_type": "execute_result",
          "data": {
            "text/plain": [
              "194673"
            ]
          },
          "metadata": {
            "tags": []
          },
          "execution_count": 22
        }
      ]
    },
    {
      "cell_type": "markdown",
      "metadata": {
        "id": "c_wrzmpOi6H2",
        "colab_type": "text"
      },
      "source": [
        "#Enconding column values"
      ]
    },
    {
      "cell_type": "code",
      "metadata": {
        "id": "G-EG-Zsci4_Z",
        "colab_type": "code",
        "colab": {}
      },
      "source": [
        "#Encoding in attention (0 = No, 1 = Yes)\n",
        "data[\"INATTENTIONIND\"].replace(\"Y\", 1, inplace=True)\n",
        "data[\"INATTENTIONIND\"].replace(np.nan, 0, inplace=True)\n",
        "\n",
        "#Encoding Under the influence (0 = No, 1 = Yes)\n",
        "data[\"UNDERINFL\"].replace(\"N\", 0, inplace=True)\n",
        "data[\"UNDERINFL\"].replace(\"Y\", 1, inplace=True)\n",
        "\n",
        "#Encoding Speeding(0 = No, 1 = Yes)\n",
        "data[\"SPEEDING\"].replace(\"Y\", 1, inplace=True)\n",
        "data[\"SPEEDING\"].replace(np.nan, 0, inplace=True)\n",
        "\n",
        "#Encoding Light Conditions(0 = Light, 1 = Medium, 2 = Dark)\n",
        "data[\"LIGHTCOND\"].replace(\"Daylight\", 0, inplace=True)\n",
        "data[\"LIGHTCOND\"].replace(\"Dark - Street Lights On\", 1, inplace=True)\n",
        "data[\"LIGHTCOND\"].replace(\"Dark - No Street Lights\", 2, inplace=True)\n",
        "data[\"LIGHTCOND\"].replace(\"Dusk\", 1, inplace=True)\n",
        "data[\"LIGHTCOND\"].replace(\"Dawn\", 1, inplace=True)\n",
        "data[\"LIGHTCOND\"].replace(\"Dark - Street Lights Off\", 2, inplace=True)\n",
        "data[\"LIGHTCOND\"].replace(\"Dark - Unknown Lighting\", 2, inplace=True)\n",
        "data[\"LIGHTCOND\"].replace(\"Other\",\"Unknown\", inplace=True)\n",
        "\n",
        "#Encoding Weather Conditions(0 = Clear, 1 = Overcast and Cloudy, 2 = Windy, 3 = Rain and Snow\n",
        "data[\"WEATHER\"].replace(\"Clear\", 0, inplace=True)\n",
        "data[\"WEATHER\"].replace(\"Raining\", 3, inplace=True)\n",
        "data[\"WEATHER\"].replace(\"Overcast\", 1, inplace=True)\n",
        "data[\"WEATHER\"].replace(\"Other\", \"Unknown\", inplace=True)\n",
        "data[\"WEATHER\"].replace(\"Snowing\", 3, inplace=True)\n",
        "data[\"WEATHER\"].replace(\"Fog/Smog/Smoke\", 2, inplace=True)\n",
        "data[\"WEATHER\"].replace(\"Sleet/Hail/Freezing Rain\", 3, inplace=True)\n",
        "data[\"WEATHER\"].replace(\"Blowing Sand/Dirt\", 2, inplace=True)\n",
        "data[\"WEATHER\"].replace(\"Severe Crosswind\", 2, inplace=True)\n",
        "data[\"WEATHER\"].replace(\"Partly Cloudy\", 1, inplace=True)\n",
        "\n",
        "#Encoding Road Conditions(0 = Dry, 1 = Mushy, 2 = Wet)\n",
        "data[\"ROADCOND\"].replace(\"Dry\", 0, inplace=True)\n",
        "data[\"ROADCOND\"].replace(\"Wet\", 2, inplace=True)\n",
        "data[\"ROADCOND\"].replace(\"Ice\", 2, inplace=True)\n",
        "data[\"ROADCOND\"].replace(\"Snow/Slush\", 1, inplace=True)\n",
        "data[\"ROADCOND\"].replace(\"Other\", \"Unknown\", inplace=True)\n",
        "data[\"ROADCOND\"].replace(\"Standing Water\", 2, inplace=True)\n",
        "data[\"ROADCOND\"].replace(\"Sand/Mud/Dirt\", 1, inplace=True)\n",
        "data[\"ROADCOND\"].replace(\"Oil\", 2, inplace=True)"
      ],
      "execution_count": 23,
      "outputs": []
    },
    {
      "cell_type": "code",
      "metadata": {
        "id": "bPJP3F3ykraX",
        "colab_type": "code",
        "colab": {}
      },
      "source": [
        "#Making new dataframe with only variables and unique keys\n",
        "selected_columns = data[[\"X\",\"Y\",\"INCKEY\",\"INATTENTIONIND\",\"UNDERINFL\",\"WEATHER\",\"ROADCOND\",\"LIGHTCOND\",\"SPEEDING\",\"SEVERITYCODE\"]]\n",
        "feature_df = selected_columns.copy()\n",
        "feature_df.dropna(axis=0,how='any',inplace=True)\n",
        "feature_stats=feature_df.describe()"
      ],
      "execution_count": 26,
      "outputs": []
    },
    {
      "cell_type": "code",
      "metadata": {
        "id": "mm1AaNYPlcIC",
        "colab_type": "code",
        "colab": {
          "base_uri": "https://localhost:8080/",
          "height": 206
        },
        "outputId": "0909c378-b482-44dc-d193-448410411da4"
      },
      "source": [
        "selected_columns.head()"
      ],
      "execution_count": 27,
      "outputs": [
        {
          "output_type": "execute_result",
          "data": {
            "text/html": [
              "<div>\n",
              "<style scoped>\n",
              "    .dataframe tbody tr th:only-of-type {\n",
              "        vertical-align: middle;\n",
              "    }\n",
              "\n",
              "    .dataframe tbody tr th {\n",
              "        vertical-align: top;\n",
              "    }\n",
              "\n",
              "    .dataframe thead th {\n",
              "        text-align: right;\n",
              "    }\n",
              "</style>\n",
              "<table border=\"1\" class=\"dataframe\">\n",
              "  <thead>\n",
              "    <tr style=\"text-align: right;\">\n",
              "      <th></th>\n",
              "      <th>X</th>\n",
              "      <th>Y</th>\n",
              "      <th>INCKEY</th>\n",
              "      <th>INATTENTIONIND</th>\n",
              "      <th>UNDERINFL</th>\n",
              "      <th>WEATHER</th>\n",
              "      <th>ROADCOND</th>\n",
              "      <th>LIGHTCOND</th>\n",
              "      <th>SPEEDING</th>\n",
              "      <th>SEVERITYCODE</th>\n",
              "    </tr>\n",
              "  </thead>\n",
              "  <tbody>\n",
              "    <tr>\n",
              "      <th>0</th>\n",
              "      <td>-122.323148</td>\n",
              "      <td>47.703140</td>\n",
              "      <td>1307</td>\n",
              "      <td>0.0</td>\n",
              "      <td>0</td>\n",
              "      <td>1</td>\n",
              "      <td>2</td>\n",
              "      <td>0</td>\n",
              "      <td>0.0</td>\n",
              "      <td>2</td>\n",
              "    </tr>\n",
              "    <tr>\n",
              "      <th>1</th>\n",
              "      <td>-122.347294</td>\n",
              "      <td>47.647172</td>\n",
              "      <td>52200</td>\n",
              "      <td>0.0</td>\n",
              "      <td>0</td>\n",
              "      <td>3</td>\n",
              "      <td>2</td>\n",
              "      <td>1</td>\n",
              "      <td>0.0</td>\n",
              "      <td>1</td>\n",
              "    </tr>\n",
              "    <tr>\n",
              "      <th>2</th>\n",
              "      <td>-122.334540</td>\n",
              "      <td>47.607871</td>\n",
              "      <td>26700</td>\n",
              "      <td>0.0</td>\n",
              "      <td>0</td>\n",
              "      <td>1</td>\n",
              "      <td>0</td>\n",
              "      <td>0</td>\n",
              "      <td>0.0</td>\n",
              "      <td>1</td>\n",
              "    </tr>\n",
              "    <tr>\n",
              "      <th>3</th>\n",
              "      <td>-122.334803</td>\n",
              "      <td>47.604803</td>\n",
              "      <td>1144</td>\n",
              "      <td>0.0</td>\n",
              "      <td>0</td>\n",
              "      <td>0</td>\n",
              "      <td>0</td>\n",
              "      <td>0</td>\n",
              "      <td>0.0</td>\n",
              "      <td>1</td>\n",
              "    </tr>\n",
              "    <tr>\n",
              "      <th>4</th>\n",
              "      <td>-122.306426</td>\n",
              "      <td>47.545739</td>\n",
              "      <td>17700</td>\n",
              "      <td>0.0</td>\n",
              "      <td>0</td>\n",
              "      <td>3</td>\n",
              "      <td>2</td>\n",
              "      <td>0</td>\n",
              "      <td>0.0</td>\n",
              "      <td>2</td>\n",
              "    </tr>\n",
              "  </tbody>\n",
              "</table>\n",
              "</div>"
            ],
            "text/plain": [
              "            X          Y  INCKEY  ...  LIGHTCOND SPEEDING SEVERITYCODE\n",
              "0 -122.323148  47.703140    1307  ...          0      0.0            2\n",
              "1 -122.347294  47.647172   52200  ...          1      0.0            1\n",
              "2 -122.334540  47.607871   26700  ...          0      0.0            1\n",
              "3 -122.334803  47.604803    1144  ...          0      0.0            1\n",
              "4 -122.306426  47.545739   17700  ...          0      0.0            2\n",
              "\n",
              "[5 rows x 10 columns]"
            ]
          },
          "metadata": {
            "tags": []
          },
          "execution_count": 27
        }
      ]
    },
    {
      "cell_type": "code",
      "metadata": {
        "id": "5W6zcnI4lvwD",
        "colab_type": "code",
        "colab": {}
      },
      "source": [
        "np.count_nonzero(feature_df['UNDERINFL'])\n",
        "\n",
        "#Light Condition\n",
        "lightcondsize = feature_df [\"LIGHTCOND\"].size\n",
        "\n",
        "featureinlightcond = feature_df ['LIGHTCOND'] == 'Unknown'\n",
        "\n",
        "lightcond = feature_df['LIGHTCOND']\n",
        "lightcond = lightcond.values\n",
        "lightcond = lightcond[featureinlightcond]\n",
        "\n",
        "lightcond[0:9036]=0\n",
        "lightcond[9036:13417]=1\n",
        "lightcond[13417:13961]=2\n",
        "\n",
        "feature_df.loc [feature_df.LIGHTCOND == \"Unknown\", 'LIGHTCOND'] = lightcond\n",
        "\n",
        "feature_df[\"LIGHTCOND\"]=feature_df[\"LIGHTCOND\"].astype(int)\n",
        "\n",
        "#Road Condition\n",
        "roadcondsize = feature_df [\"ROADCOND\"].size\n",
        "\n",
        "featureinroadcond = feature_df ['ROADCOND'] == 'Unknown'\n",
        "\n",
        "roadcond = feature_df['LIGHTCOND']\n",
        "roadcond = roadcond.values\n",
        "roadcond = roadcond[featureinroadcond]\n",
        "\n",
        "roadcond[0:9954]=0\n",
        "roadcond[9954:10040]=1\n",
        "roadcond[10040:15163]=2\n",
        "\n",
        "feature_df.loc[feature_df.ROADCOND == \"Unknown\", 'ROADCOND'] = roadcond\n",
        "feature_df[\"ROADCOND\"]=feature_df[\"ROADCOND\"].astype(int)\n",
        "\n",
        "#Weather Condition\n",
        "weathersize = feature_df [\"WEATHER\"].size\n",
        "\n",
        "featureinweather = feature_df ['WEATHER'] == 'Unknown'\n",
        "\n",
        "weather = feature_df['WEATHER']\n",
        "weather = weather.values\n",
        "weather = weather[featureinweather]\n",
        "\n",
        "weather[0:10151]=0\n",
        "weather[10151:12683]=1\n",
        "weather[12683:12742]=2\n",
        "weather[12742:15864]=3\n",
        "\n",
        "\n",
        "feature_df.loc[feature_df.WEATHER == \"Unknown\", 'WEATHER'] = weather\n",
        "feature_df[\"WEATHER\"]=feature_df[\"WEATHER\"].astype(int)\n",
        "\n",
        "#Converting remaining to int\n",
        "feature_df[\"SPEEDING\"]=feature_df[\"SPEEDING\"].astype(int)\n",
        "feature_df[\"INATTENTIONIND\"]=feature_df[\"INATTENTIONIND\"].astype(int)\n",
        "feature_df[\"UNDERINFL\"]=feature_df[\"UNDERINFL\"].astype(int)"
      ],
      "execution_count": 29,
      "outputs": []
    },
    {
      "cell_type": "code",
      "metadata": {
        "id": "723KgAMEnqRM",
        "colab_type": "code",
        "colab": {
          "base_uri": "https://localhost:8080/",
          "height": 54
        },
        "outputId": "ffad9892-95ed-44dc-d821-5a6286a427e5"
      },
      "source": [
        "#ML Feature Sets\n",
        "X = feature_df[[\"SPEEDING\",\"INATTENTIONIND\",\"UNDERINFL\",\"ROADCOND\",\"WEATHER\",\"LIGHTCOND\"]].values\n",
        "y = feature_df[[\"SEVERITYCODE\"]].values\n",
        "\n",
        "#Test/Train split\n",
        "X_train, X_test, y_train, y_test = train_test_split(X, y, test_size=0.3, random_state=4)\n",
        "print ('Train set:', X_train.shape,  y_train.shape)\n",
        "print ('Test set:', X_test.shape,  y_test.shape)"
      ],
      "execution_count": 30,
      "outputs": [
        {
          "output_type": "stream",
          "text": [
            "Train set: (128916, 6) (128916, 1)\n",
            "Test set: (55251, 6) (55251, 1)\n"
          ],
          "name": "stdout"
        }
      ]
    },
    {
      "cell_type": "code",
      "metadata": {
        "id": "WlEFF-pxn6qk",
        "colab_type": "code",
        "colab": {}
      },
      "source": [
        "# Balance the Data\n",
        "os = SMOTE (random_state=0)\n",
        "os_data_X, os_data_y= os.fit_sample(X_train, y_train)\n",
        "\n",
        "#Make reduced df from feature_df to get a few random points to make map\n",
        "limit = 100005\n",
        "reduced_df = feature_df.iloc [0:limit:5, 0:]"
      ],
      "execution_count": 31,
      "outputs": []
    },
    {
      "cell_type": "code",
      "metadata": {
        "id": "ybdtI3PkovWR",
        "colab_type": "code",
        "colab": {
          "base_uri": "https://localhost:8080/",
          "height": 315
        },
        "outputId": "079d25bf-0a0b-4ed7-9c3d-60d6fc63ae03"
      },
      "source": [
        "#Decision Tree Clasifier\n",
        "DT = DecisionTreeClassifier(criterion=\"entropy\", max_depth=6)\n",
        "DT.fit(os_data_X, os_data_y)\n",
        "\n",
        "#Make Prediction:\n",
        "yhatDT = DT.predict(X_test)\n",
        "\n",
        "#Check Accuracy\n",
        "print('Accuracy score for Decision Tree = ', accuracy_score(yhatDT, y_test))\n",
        "\n",
        "#Visualization\n",
        "print('Confusion Matrix - Decision Tree')\n",
        "print(pd.crosstab(y_test.ravel(), yhatDT.ravel(), rownames = ['True'], colnames = ['Predicted'], margins = True))\n",
        "\n",
        "print(classification_report(yhatDT,y_test))"
      ],
      "execution_count": 45,
      "outputs": [
        {
          "output_type": "stream",
          "text": [
            "Accuracy score for Decision Tree =  0.5760076740692476\n",
            "Confusion Matrix - Decision Tree\n",
            "Predicted      1      2    All\n",
            "True                          \n",
            "1          24461  13984  38445\n",
            "2           9442   7364  16806\n",
            "All        33903  21348  55251\n",
            "              precision    recall  f1-score   support\n",
            "\n",
            "           1       0.64      0.72      0.68     33903\n",
            "           2       0.44      0.34      0.39     21348\n",
            "\n",
            "    accuracy                           0.58     55251\n",
            "   macro avg       0.54      0.53      0.53     55251\n",
            "weighted avg       0.56      0.58      0.56     55251\n",
            "\n"
          ],
          "name": "stdout"
        }
      ]
    },
    {
      "cell_type": "code",
      "metadata": {
        "id": "pMM5wGl6qiOU",
        "colab_type": "code",
        "colab": {
          "base_uri": "https://localhost:8080/",
          "height": 222
        },
        "outputId": "677ec055-10a6-44fd-e0f0-d4d97e31c7ba"
      },
      "source": [
        "#Logistic Regression\n",
        "LR = LogisticRegression(C=0.01, solver='liblinear').fit(os_data_X,os_data_y)\n",
        "\n",
        "yhatLR = LR.predict(X_test)\n",
        "yhat_prob = LR.predict_proba(X_test)\n",
        "\n",
        "print(log_loss(y_test, yhat_prob))\n",
        "\n",
        "print (\"Accuracy\", accuracy_score(yhatLR,y_test))\n",
        "print (classification_report(y_test, yhatLR))\n",
        "\n",
        "cnf_matrix = confusion_matrix(y_test, yhatLR, labels=[1,0])\n",
        "np.set_printoptions(precision=2)"
      ],
      "execution_count": 44,
      "outputs": [
        {
          "output_type": "stream",
          "text": [
            "0.6888226756788725\n",
            "Accuracy 0.5888219217751715\n",
            "              precision    recall  f1-score   support\n",
            "\n",
            "           1       0.72      0.67      0.69     38445\n",
            "           2       0.35      0.41      0.38     16806\n",
            "\n",
            "    accuracy                           0.59     55251\n",
            "   macro avg       0.53      0.54      0.53     55251\n",
            "weighted avg       0.61      0.59      0.60     55251\n",
            "\n"
          ],
          "name": "stdout"
        }
      ]
    }
  ]
}